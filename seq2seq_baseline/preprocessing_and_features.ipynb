{
 "cells": [
  {
   "cell_type": "code",
   "execution_count": 2,
   "metadata": {},
   "outputs": [],
   "source": [
    "import pandas as pd\n",
    "import json\n",
    "import random\n",
    "from pandas.io.json import json_normalize\n",
    "import warnings\n",
    "warnings.filterwarnings('ignore')"
   ]
  },
  {
   "cell_type": "markdown",
   "metadata": {},
   "source": [
    "# Парсинг json"
   ]
  },
  {
   "cell_type": "markdown",
   "metadata": {},
   "source": [
    "### SQuAD"
   ]
  },
  {
   "cell_type": "code",
   "execution_count": 3,
   "metadata": {},
   "outputs": [],
   "source": [
    "def load_json(file):\n",
    "    data = json.load(f)\n",
    "    data_par = json_normalize(data=data['data'], record_path=['paragraphs'], meta=['title'])\n",
    "    \n",
    "    return data_par"
   ]
  },
  {
   "cell_type": "code",
   "execution_count": 4,
   "metadata": {},
   "outputs": [],
   "source": [
    "f = open('squad/train-v2.0.json')\n",
    "squad_train = load_json(f)\n",
    "f.close()"
   ]
  },
  {
   "cell_type": "code",
   "execution_count": 47,
   "metadata": {},
   "outputs": [],
   "source": [
    "f = open('squad/dev-v2.0.json')\n",
    "squad_dev = load_json(f)\n",
    "f.close()"
   ]
  },
  {
   "cell_type": "code",
   "execution_count": 48,
   "metadata": {},
   "outputs": [],
   "source": [
    "def json_to_df(data_par):\n",
    "    new_df = pd.DataFrame()\n",
    "    for idx, listOfDicts in data_par[['qas']].itertuples():\n",
    "        qas = pd.DataFrame.from_dict(listOfDicts)\n",
    "        qas['title'] = data_par['title'][idx]\n",
    "        qas['context'] = data_par['context'][idx]\n",
    "        qas['answer'] = ''\n",
    "        qas['answer_start'] = ''\n",
    "        for ind, answer in qas[['answers']].itertuples():\n",
    "            if answer == []:\n",
    "                answer = qas['plausible_answers'][ind]\n",
    "            try:\n",
    "                dic = random.sample(answer, 1)[0]\n",
    "            except ValueError:\n",
    "                pass\n",
    "            qas['answer'][ind] = dic.get('text')\n",
    "            qas['answer_start'][ind] = dic.get('answer_start')\n",
    "        new_df = new_df.append(qas)\n",
    "\n",
    "    new_df = new_df.drop('answers', axis=1)\n",
    "    new_df = new_df.drop('plausible_answers', axis=1)   \n",
    "    new_df = new_df.drop('id', axis=1)\n",
    "    new_df = new_df.reset_index()\n",
    "    new_df = new_df.drop('index', axis=1)\n",
    "    \n",
    "    return new_df"
   ]
  },
  {
   "cell_type": "code",
   "execution_count": null,
   "metadata": {},
   "outputs": [],
   "source": [
    "squad_train = json_to_df(squad_train)\n",
    "print(len(squad_train))"
   ]
  },
  {
   "cell_type": "code",
   "execution_count": null,
   "metadata": {
    "scrolled": true
   },
   "outputs": [],
   "source": [
    "squad_train.head(10)"
   ]
  },
  {
   "cell_type": "code",
   "execution_count": 49,
   "metadata": {},
   "outputs": [
    {
     "name": "stdout",
     "output_type": "stream",
     "text": [
      "11873\n"
     ]
    }
   ],
   "source": [
    "squad_dev = json_to_df(squad_dev)\n",
    "print(len(squad_dev))"
   ]
  },
  {
   "cell_type": "code",
   "execution_count": 50,
   "metadata": {
    "scrolled": true
   },
   "outputs": [
    {
     "data": {
      "text/html": [
       "<div>\n",
       "<style scoped>\n",
       "    .dataframe tbody tr th:only-of-type {\n",
       "        vertical-align: middle;\n",
       "    }\n",
       "\n",
       "    .dataframe tbody tr th {\n",
       "        vertical-align: top;\n",
       "    }\n",
       "\n",
       "    .dataframe thead th {\n",
       "        text-align: right;\n",
       "    }\n",
       "</style>\n",
       "<table border=\"1\" class=\"dataframe\">\n",
       "  <thead>\n",
       "    <tr style=\"text-align: right;\">\n",
       "      <th></th>\n",
       "      <th>question</th>\n",
       "      <th>is_impossible</th>\n",
       "      <th>title</th>\n",
       "      <th>context</th>\n",
       "      <th>answer</th>\n",
       "      <th>answer_start</th>\n",
       "    </tr>\n",
       "  </thead>\n",
       "  <tbody>\n",
       "    <tr>\n",
       "      <th>0</th>\n",
       "      <td>In what country is Normandy located?</td>\n",
       "      <td>False</td>\n",
       "      <td>Normans</td>\n",
       "      <td>The Normans (Norman: Nourmands; French: Norman...</td>\n",
       "      <td>France</td>\n",
       "      <td>159</td>\n",
       "    </tr>\n",
       "    <tr>\n",
       "      <th>1</th>\n",
       "      <td>When were the Normans in Normandy?</td>\n",
       "      <td>False</td>\n",
       "      <td>Normans</td>\n",
       "      <td>The Normans (Norman: Nourmands; French: Norman...</td>\n",
       "      <td>in the 10th and 11th centuries</td>\n",
       "      <td>87</td>\n",
       "    </tr>\n",
       "    <tr>\n",
       "      <th>2</th>\n",
       "      <td>From which countries did the Norse originate?</td>\n",
       "      <td>False</td>\n",
       "      <td>Normans</td>\n",
       "      <td>The Normans (Norman: Nourmands; French: Norman...</td>\n",
       "      <td>Denmark, Iceland and Norway</td>\n",
       "      <td>256</td>\n",
       "    </tr>\n",
       "    <tr>\n",
       "      <th>3</th>\n",
       "      <td>Who was the Norse leader?</td>\n",
       "      <td>False</td>\n",
       "      <td>Normans</td>\n",
       "      <td>The Normans (Norman: Nourmands; French: Norman...</td>\n",
       "      <td>Rollo</td>\n",
       "      <td>308</td>\n",
       "    </tr>\n",
       "    <tr>\n",
       "      <th>4</th>\n",
       "      <td>What century did the Normans first gain their ...</td>\n",
       "      <td>False</td>\n",
       "      <td>Normans</td>\n",
       "      <td>The Normans (Norman: Nourmands; French: Norman...</td>\n",
       "      <td>10th</td>\n",
       "      <td>671</td>\n",
       "    </tr>\n",
       "    <tr>\n",
       "      <th>5</th>\n",
       "      <td>Who gave their name to Normandy in the 1000's ...</td>\n",
       "      <td>True</td>\n",
       "      <td>Normans</td>\n",
       "      <td>The Normans (Norman: Nourmands; French: Norman...</td>\n",
       "      <td>Normans</td>\n",
       "      <td>4</td>\n",
       "    </tr>\n",
       "    <tr>\n",
       "      <th>6</th>\n",
       "      <td>What is France a region of?</td>\n",
       "      <td>True</td>\n",
       "      <td>Normans</td>\n",
       "      <td>The Normans (Norman: Nourmands; French: Norman...</td>\n",
       "      <td>Normandy</td>\n",
       "      <td>137</td>\n",
       "    </tr>\n",
       "    <tr>\n",
       "      <th>7</th>\n",
       "      <td>Who did King Charles III swear fealty to?</td>\n",
       "      <td>True</td>\n",
       "      <td>Normans</td>\n",
       "      <td>The Normans (Norman: Nourmands; French: Norman...</td>\n",
       "      <td>Rollo</td>\n",
       "      <td>308</td>\n",
       "    </tr>\n",
       "    <tr>\n",
       "      <th>8</th>\n",
       "      <td>When did the Frankish identity emerge?</td>\n",
       "      <td>True</td>\n",
       "      <td>Normans</td>\n",
       "      <td>The Normans (Norman: Nourmands; French: Norman...</td>\n",
       "      <td>10th century</td>\n",
       "      <td>671</td>\n",
       "    </tr>\n",
       "    <tr>\n",
       "      <th>9</th>\n",
       "      <td>Who was the duke in the battle of Hastings?</td>\n",
       "      <td>False</td>\n",
       "      <td>Normans</td>\n",
       "      <td>The Norman dynasty had a major political, cult...</td>\n",
       "      <td>William the Conqueror</td>\n",
       "      <td>1022</td>\n",
       "    </tr>\n",
       "  </tbody>\n",
       "</table>\n",
       "</div>"
      ],
      "text/plain": [
       "                                            question  is_impossible    title  \\\n",
       "0               In what country is Normandy located?          False  Normans   \n",
       "1                 When were the Normans in Normandy?          False  Normans   \n",
       "2      From which countries did the Norse originate?          False  Normans   \n",
       "3                          Who was the Norse leader?          False  Normans   \n",
       "4  What century did the Normans first gain their ...          False  Normans   \n",
       "5  Who gave their name to Normandy in the 1000's ...           True  Normans   \n",
       "6                        What is France a region of?           True  Normans   \n",
       "7          Who did King Charles III swear fealty to?           True  Normans   \n",
       "8             When did the Frankish identity emerge?           True  Normans   \n",
       "9        Who was the duke in the battle of Hastings?          False  Normans   \n",
       "\n",
       "                                             context  \\\n",
       "0  The Normans (Norman: Nourmands; French: Norman...   \n",
       "1  The Normans (Norman: Nourmands; French: Norman...   \n",
       "2  The Normans (Norman: Nourmands; French: Norman...   \n",
       "3  The Normans (Norman: Nourmands; French: Norman...   \n",
       "4  The Normans (Norman: Nourmands; French: Norman...   \n",
       "5  The Normans (Norman: Nourmands; French: Norman...   \n",
       "6  The Normans (Norman: Nourmands; French: Norman...   \n",
       "7  The Normans (Norman: Nourmands; French: Norman...   \n",
       "8  The Normans (Norman: Nourmands; French: Norman...   \n",
       "9  The Norman dynasty had a major political, cult...   \n",
       "\n",
       "                           answer answer_start  \n",
       "0                          France          159  \n",
       "1  in the 10th and 11th centuries           87  \n",
       "2     Denmark, Iceland and Norway          256  \n",
       "3                           Rollo          308  \n",
       "4                            10th          671  \n",
       "5                         Normans            4  \n",
       "6                        Normandy          137  \n",
       "7                           Rollo          308  \n",
       "8                    10th century          671  \n",
       "9           William the Conqueror         1022  "
      ]
     },
     "execution_count": 50,
     "metadata": {},
     "output_type": "execute_result"
    }
   ],
   "source": [
    "squad_dev.head(10)"
   ]
  },
  {
   "cell_type": "markdown",
   "metadata": {},
   "source": [
    "### SberQuAD"
   ]
  },
  {
   "cell_type": "code",
   "execution_count": 18,
   "metadata": {},
   "outputs": [],
   "source": [
    "f = open('sberquad/train-v1.1.json')\n",
    "sberquad_train = load_json(f)\n",
    "f.close()"
   ]
  },
  {
   "cell_type": "code",
   "execution_count": 44,
   "metadata": {},
   "outputs": [],
   "source": [
    "f = open('sberquad/dev-v1.1.json')\n",
    "sberquad_dev = load_json(f)\n",
    "f.close()"
   ]
  },
  {
   "cell_type": "code",
   "execution_count": 43,
   "metadata": {},
   "outputs": [],
   "source": [
    "def json_to_df_sber(data_par):\n",
    "    new_df = pd.DataFrame({'context': data_par['context']})\n",
    "    new_df['question'] = ''\n",
    "    new_df['answer'] = ''\n",
    "    new_df['answer_start'] = ''\n",
    "    \n",
    "    for idx, listOfDicts in data_par[['qas']].itertuples():\n",
    "        dic = listOfDicts[0]\n",
    "        new_df['question'][idx] = dic.get('question')\n",
    "        answer = dic.get('answers')[0]\n",
    "        new_df['answer'][idx] = answer.get('text')\n",
    "        new_df['answer_start'][idx] = answer.get('answer_start')\n",
    "    \n",
    "    return new_df"
   ]
  },
  {
   "cell_type": "code",
   "execution_count": null,
   "metadata": {},
   "outputs": [],
   "source": [
    "sberquad_train = json_to_df_sber(sberquad_train)\n",
    "print(len(sberquad_train))"
   ]
  },
  {
   "cell_type": "code",
   "execution_count": null,
   "metadata": {},
   "outputs": [],
   "source": [
    "sberquad_train.head(10)"
   ]
  },
  {
   "cell_type": "code",
   "execution_count": 45,
   "metadata": {},
   "outputs": [
    {
     "name": "stdout",
     "output_type": "stream",
     "text": [
      "5036\n"
     ]
    }
   ],
   "source": [
    "sberquad_dev = json_to_df_sber(sberquad_dev)\n",
    "print(len(sberquad_dev))"
   ]
  },
  {
   "cell_type": "code",
   "execution_count": 46,
   "metadata": {},
   "outputs": [
    {
     "data": {
      "text/html": [
       "<div>\n",
       "<style scoped>\n",
       "    .dataframe tbody tr th:only-of-type {\n",
       "        vertical-align: middle;\n",
       "    }\n",
       "\n",
       "    .dataframe tbody tr th {\n",
       "        vertical-align: top;\n",
       "    }\n",
       "\n",
       "    .dataframe thead th {\n",
       "        text-align: right;\n",
       "    }\n",
       "</style>\n",
       "<table border=\"1\" class=\"dataframe\">\n",
       "  <thead>\n",
       "    <tr style=\"text-align: right;\">\n",
       "      <th></th>\n",
       "      <th>context</th>\n",
       "      <th>question</th>\n",
       "      <th>answer</th>\n",
       "      <th>answer_start</th>\n",
       "    </tr>\n",
       "  </thead>\n",
       "  <tbody>\n",
       "    <tr>\n",
       "      <th>0</th>\n",
       "      <td>В Миссолонги Байрон заболел лихорадкой, продол...</td>\n",
       "      <td>Чем заболел Байрон в Миссолонги?</td>\n",
       "      <td>лихорадкой</td>\n",
       "      <td>28</td>\n",
       "    </tr>\n",
       "    <tr>\n",
       "      <th>1</th>\n",
       "      <td>От излишней потери тепла млекопитающих предохр...</td>\n",
       "      <td>Как отводятся излишки тепла у млекопитающих?</td>\n",
       "      <td>потоотделением</td>\n",
       "      <td>132</td>\n",
       "    </tr>\n",
       "    <tr>\n",
       "      <th>2</th>\n",
       "      <td>Хромосомные перестройки (хромосомные аберрации...</td>\n",
       "      <td>Что нарушают хромосомные аберрации?</td>\n",
       "      <td>Структуру хромосом.</td>\n",
       "      <td>74</td>\n",
       "    </tr>\n",
       "    <tr>\n",
       "      <th>3</th>\n",
       "      <td>Первый в мире городской автобус с двигателем в...</td>\n",
       "      <td>В каком городе первый в мире городской автобус...</td>\n",
       "      <td>в Лондоне</td>\n",
       "      <td>103</td>\n",
       "    </tr>\n",
       "    <tr>\n",
       "      <th>4</th>\n",
       "      <td>Фродом являются также и операции с поддельными...</td>\n",
       "      <td>В каком режиме проходят подлимитные операции?</td>\n",
       "      <td>в режиме офлайн</td>\n",
       "      <td>455</td>\n",
       "    </tr>\n",
       "    <tr>\n",
       "      <th>5</th>\n",
       "      <td>Слоговое письмо представляет собой набор письм...</td>\n",
       "      <td>Находит ли отражение в алфавите фонетическая с...</td>\n",
       "      <td>не находит</td>\n",
       "      <td>368</td>\n",
       "    </tr>\n",
       "    <tr>\n",
       "      <th>6</th>\n",
       "      <td>Весной 1890 года художник перебрался в Овер-сю...</td>\n",
       "      <td>Каким стал стиль последних работ художника?</td>\n",
       "      <td>нервным и гнетущим</td>\n",
       "      <td>232</td>\n",
       "    </tr>\n",
       "    <tr>\n",
       "      <th>7</th>\n",
       "      <td>В 2008 году родилось 1147 человек у граждан Шв...</td>\n",
       "      <td>Сколько человек родилось в 2008 году у граждан...</td>\n",
       "      <td>1147 человек</td>\n",
       "      <td>21</td>\n",
       "    </tr>\n",
       "    <tr>\n",
       "      <th>8</th>\n",
       "      <td>Иногда говорят о возможности провести GNU GPL ...</td>\n",
       "      <td>Какая статья и пункт дает возможность статья д...</td>\n",
       "      <td>пункт 2 статьи 434</td>\n",
       "      <td>558</td>\n",
       "    </tr>\n",
       "    <tr>\n",
       "      <th>9</th>\n",
       "      <td>Первым пособием по товароведению в России обыч...</td>\n",
       "      <td>Какими русскими купцами был накоплен значимый ...</td>\n",
       "      <td>купцами-новгородцами</td>\n",
       "      <td>245</td>\n",
       "    </tr>\n",
       "  </tbody>\n",
       "</table>\n",
       "</div>"
      ],
      "text/plain": [
       "                                             context  \\\n",
       "0  В Миссолонги Байрон заболел лихорадкой, продол...   \n",
       "1  От излишней потери тепла млекопитающих предохр...   \n",
       "2  Хромосомные перестройки (хромосомные аберрации...   \n",
       "3  Первый в мире городской автобус с двигателем в...   \n",
       "4  Фродом являются также и операции с поддельными...   \n",
       "5  Слоговое письмо представляет собой набор письм...   \n",
       "6  Весной 1890 года художник перебрался в Овер-сю...   \n",
       "7  В 2008 году родилось 1147 человек у граждан Шв...   \n",
       "8  Иногда говорят о возможности провести GNU GPL ...   \n",
       "9  Первым пособием по товароведению в России обыч...   \n",
       "\n",
       "                                            question                answer  \\\n",
       "0                   Чем заболел Байрон в Миссолонги?            лихорадкой   \n",
       "1       Как отводятся излишки тепла у млекопитающих?        потоотделением   \n",
       "2                Что нарушают хромосомные аберрации?   Структуру хромосом.   \n",
       "3  В каком городе первый в мире городской автобус...             в Лондоне   \n",
       "4      В каком режиме проходят подлимитные операции?       в режиме офлайн   \n",
       "5  Находит ли отражение в алфавите фонетическая с...            не находит   \n",
       "6        Каким стал стиль последних работ художника?    нервным и гнетущим   \n",
       "7  Сколько человек родилось в 2008 году у граждан...          1147 человек   \n",
       "8  Какая статья и пункт дает возможность статья д...    пункт 2 статьи 434   \n",
       "9  Какими русскими купцами был накоплен значимый ...  купцами-новгородцами   \n",
       "\n",
       "  answer_start  \n",
       "0           28  \n",
       "1          132  \n",
       "2           74  \n",
       "3          103  \n",
       "4          455  \n",
       "5          368  \n",
       "6          232  \n",
       "7           21  \n",
       "8          558  \n",
       "9          245  "
      ]
     },
     "execution_count": 46,
     "metadata": {},
     "output_type": "execute_result"
    }
   ],
   "source": [
    "sberquad_dev.head(10)"
   ]
  },
  {
   "cell_type": "code",
   "execution_count": null,
   "metadata": {},
   "outputs": [],
   "source": []
  }
 ],
 "metadata": {
  "kernelspec": {
   "display_name": "Python 3",
   "language": "python",
   "name": "python3"
  },
  "language_info": {
   "codemirror_mode": {
    "name": "ipython",
    "version": 3
   },
   "file_extension": ".py",
   "mimetype": "text/x-python",
   "name": "python",
   "nbconvert_exporter": "python",
   "pygments_lexer": "ipython3",
   "version": "3.6.8"
  }
 },
 "nbformat": 4,
 "nbformat_minor": 2
}
